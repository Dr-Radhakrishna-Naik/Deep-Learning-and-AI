{
  "nbformat": 4,
  "nbformat_minor": 0,
  "metadata": {
    "colab": {
      "name": "Attention_vector.ipynb",
      "provenance": [],
      "collapsed_sections": []
    },
    "kernelspec": {
      "name": "python3",
      "display_name": "Python 3"
    },
    "language_info": {
      "name": "python"
    },
    "accelerator": "GPU",
    "gpuClass": "standard"
  },
  "cells": [
    {
      "cell_type": "code",
      "execution_count": 16,
      "metadata": {
        "id": "7yZdsP9vZeIQ"
      },
      "outputs": [],
      "source": [
        "import tensorflow as tf\n",
        "import matplotlib.pyplot as plt"
      ]
    },
    {
      "cell_type": "code",
      "source": [
        "#To calculate the alignment score generating english and hindi hidden sates randomly\n",
        "#Note that practically hidden state will come from encoder and hindi from decoder\n",
        "key=tf.random.normal(shape=(1,4,5))\n",
        "#1:no of sentence,4: no of words, 5: no.of LSTM\n",
        "query=tf.random.normal(shape=(1,1,5))\n",
        "#1:no of sentence,1: no of words, 5: no.of LSTM\n",
        "#practicallly key and values are different,but for the sake of simplicity,key and value are taken same\n",
        "value=tf.identity(key)"
      ],
      "metadata": {
        "id": "MdNMxO70Z50-"
      },
      "execution_count": 17,
      "outputs": []
    },
    {
      "cell_type": "code",
      "source": [
        "#Step 2: pass query and key to dense layer,Let us define the dense layer\n",
        "w_k=tf.keras.layers.Dense(8)\n",
        "w_q=tf.keras.layers.Dense(8)"
      ],
      "metadata": {
        "id": "uveptH9fbYZA"
      },
      "execution_count": 18,
      "outputs": []
    },
    {
      "cell_type": "code",
      "source": [
        "#Now let us pass this quer and key to dense layer\n",
        "query=w_q(query)\n",
        "key=w_k(key)"
      ],
      "metadata": {
        "id": "h7qMwsgXb6Y6"
      },
      "execution_count": 19,
      "outputs": []
    },
    {
      "cell_type": "code",
      "source": [
        "print(\"This is encoder hidden states(English) after dense layer\")\n",
        "print(key)"
      ],
      "metadata": {
        "colab": {
          "base_uri": "https://localhost:8080/"
        },
        "id": "0bNaddFAcPP-",
        "outputId": "7f1b203f-6721-44d1-d411-0cc93ee8a35a"
      },
      "execution_count": 20,
      "outputs": [
        {
          "output_type": "stream",
          "name": "stdout",
          "text": [
            "This is encoder hidden states(English) after dense layer\n",
            "tf.Tensor(\n",
            "[[[-0.45524186  0.46603784 -0.01982749  0.4054026  -0.07186634\n",
            "   -0.48003662 -0.11677375  0.67302626]\n",
            "  [ 0.82228434 -0.96037424  0.7906288  -0.9113282   0.20812045\n",
            "    1.1263248  -0.13159513 -1.1001142 ]\n",
            "  [-0.26121876  0.12759028 -0.8549876   1.2731094   0.93241096\n",
            "   -0.30118695 -0.98875606  0.81466305]\n",
            "  [ 1.5082101  -1.6057025   0.8189245  -1.4765685   1.6315415\n",
            "   -0.8945791  -1.2228415  -0.68348575]]], shape=(1, 4, 8), dtype=float32)\n"
          ]
        }
      ]
    },
    {
      "cell_type": "code",
      "source": [
        "#you can observe the output shape(1,4,8)key\n",
        "print(\"This is decoder hidden states(Hindi) after dense layer\")\n",
        "print(query)"
      ],
      "metadata": {
        "colab": {
          "base_uri": "https://localhost:8080/"
        },
        "id": "pxgOD-_6cmL6",
        "outputId": "2ffc161f-ebce-411b-db31-e253b2f90b4b"
      },
      "execution_count": 21,
      "outputs": [
        {
          "output_type": "stream",
          "name": "stdout",
          "text": [
            "This is decoder hidden states(Hindi) after dense layer\n",
            "tf.Tensor(\n",
            "[[[ 0.4252594  -0.70196533  0.15745676 -0.5295378  -0.8835073\n",
            "   -0.8220808  -0.7119185  -0.6926466 ]]], shape=(1, 1, 8), dtype=float32)\n"
          ]
        }
      ]
    },
    {
      "cell_type": "code",
      "source": [
        "#observe the shape is (1,1,8)"
      ],
      "metadata": {
        "id": "B4zcS-HbdF2l"
      },
      "execution_count": null,
      "outputs": []
    },
    {
      "cell_type": "code",
      "source": [
        "#step 3:Now sum the query and key\n",
        "#you can not do it directly like qury+key\n",
        "#we want output in the shape\n",
        "# #1:no of sentence,4: no of words, 5: no.of LSTM\n",
        "# That is whu we expand the dimension at desired axis\n",
        "query=tf.expand_dims(query,axis=2)\n",
        "key=tf.expand_dims(key,axis=1)\n",
        "query_plus_key=tf.nn.tanh(query+key)\n",
        "print(\"After sum of query and key\")\n",
        "print(query_plus_key)"
      ],
      "metadata": {
        "colab": {
          "base_uri": "https://localhost:8080/"
        },
        "id": "F1ExnbnPdMfS",
        "outputId": "a6e5a7c7-9c06-4654-a75d-0b9033b30dd4"
      },
      "execution_count": 22,
      "outputs": [
        {
          "output_type": "stream",
          "name": "stdout",
          "text": [
            "After sum of query and key\n",
            "tf.Tensor(\n",
            "[[[[-0.02997346 -0.23164542  0.1367668  -0.12350147 -0.7422062\n",
            "    -0.86226726 -0.67977315 -0.01961784]\n",
            "   [ 0.8475934  -0.9305316   0.73891515 -0.8938719  -0.5885122\n",
            "     0.29519162 -0.6876656  -0.9460512 ]\n",
            "   [ 0.1625849  -0.51856506 -0.60279816  0.63129824  0.04886469\n",
            "    -0.8087025  -0.93549323  0.12141447]\n",
            "   [ 0.9590128  -0.9803964   0.7514951  -0.96445644  0.63397473\n",
            "    -0.9374596  -0.9591164  -0.88008225]]]], shape=(1, 1, 4, 8), dtype=float32)\n"
          ]
        }
      ]
    },
    {
      "cell_type": "code",
      "source": [
        "# we do not need last unit axis,i.e.8 that is why we pass it through single neuron\n",
        "single_neuron=tf.keras.layers.Dense(1)"
      ],
      "metadata": {
        "id": "RnBbvRXChAnP"
      },
      "execution_count": 23,
      "outputs": []
    },
    {
      "cell_type": "code",
      "source": [
        "score=single_neuron(query_plus_key)\n",
        "print(score.shape)"
      ],
      "metadata": {
        "colab": {
          "base_uri": "https://localhost:8080/"
        },
        "id": "94IGuBr8hY03",
        "outputId": "ecbbe129-281d-42a0-f339-0ea0b2683272"
      },
      "execution_count": 24,
      "outputs": [
        {
          "output_type": "stream",
          "name": "stdout",
          "text": [
            "(1, 1, 4, 1)\n"
          ]
        }
      ]
    },
    {
      "cell_type": "code",
      "source": [
        "#Now instead of 8 ,we are getting 1 as last unit axis,let us squeez that to final score\n",
        "score=tf.squeeze(score,-1)\n",
        "print(score.shape)"
      ],
      "metadata": {
        "colab": {
          "base_uri": "https://localhost:8080/"
        },
        "id": "uOzcMCfchu-9",
        "outputId": "2681a688-8c4a-48e5-c1a2-8ec4e133be05"
      },
      "execution_count": 25,
      "outputs": [
        {
          "output_type": "stream",
          "name": "stdout",
          "text": [
            "(1, 1, 4)\n"
          ]
        }
      ]
    },
    {
      "cell_type": "code",
      "source": [
        "print(\"The final alignment score\")\n",
        "print(score.shape)"
      ],
      "metadata": {
        "colab": {
          "base_uri": "https://localhost:8080/"
        },
        "id": "TP3ANed1iL_V",
        "outputId": "6018a571-b3ba-4e80-9036-c47ffa003391"
      },
      "execution_count": 26,
      "outputs": [
        {
          "output_type": "stream",
          "name": "stdout",
          "text": [
            "The final alignment score\n",
            "(1, 1, 4)\n"
          ]
        }
      ]
    },
    {
      "cell_type": "code",
      "source": [
        "#Step 4:calculate attention weights\n",
        "attention_weights=tf.nn.softmax(score,-1)\n",
        "print(attention_weights)"
      ],
      "metadata": {
        "colab": {
          "base_uri": "https://localhost:8080/"
        },
        "id": "1xkq73qPiY-4",
        "outputId": "8b19f073-f490-4f59-ac89-e6a4460136cc"
      },
      "execution_count": 28,
      "outputs": [
        {
          "output_type": "stream",
          "name": "stdout",
          "text": [
            "tf.Tensor([[[0.22133699 0.1044247  0.26187977 0.41235852]]], shape=(1, 1, 4), dtype=float32)\n"
          ]
        }
      ]
    },
    {
      "cell_type": "code",
      "source": [
        "plt.imshow(tf.squeeze(attention_weights,0),cmap='Reds')\n",
        "plt.show()"
      ],
      "metadata": {
        "colab": {
          "base_uri": "https://localhost:8080/",
          "height": 136
        },
        "id": "-0RLKmqRi2eM",
        "outputId": "d19d30cc-f12e-4f74-a849-b3e500c1e1bd"
      },
      "execution_count": 30,
      "outputs": [
        {
          "output_type": "display_data",
          "data": {
            "text/plain": [
              "<Figure size 432x288 with 1 Axes>"
            ],
            "image/png": "[encoded data removed]"
          },
          "metadata": {
            "needs_background": "light"
          }
        }
      ]
    },
    {
      "cell_type": "code",
      "source": [
        "#Step 5: calculating Context vector\n",
        "context_vector=tf.matmul(attention_weights,value)\n",
        "print(context_vector)"
      ],
      "metadata": {
        "colab": {
          "base_uri": "https://localhost:8080/"
        },
        "id": "lE3lXhHgjaPf",
        "outputId": "9b3ec40b-ee34-4c93-a0fc-b68887390a64"
      },
      "execution_count": 31,
      "outputs": [
        {
          "output_type": "stream",
          "name": "stdout",
          "text": [
            "tf.Tensor([[[-0.01605296 -1.4171336   0.20643687 -0.20967212 -0.10804856]]], shape=(1, 1, 5), dtype=float32)\n"
          ]
        }
      ]
    }
  ]
}