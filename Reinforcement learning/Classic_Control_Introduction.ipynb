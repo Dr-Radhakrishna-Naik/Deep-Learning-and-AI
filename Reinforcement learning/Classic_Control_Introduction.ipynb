{
  "cells": [
    {
      "cell_type": "markdown",
      "source": [
        "Classic environments in Reinforcement Learning research. These environments have continuous states spaces (i.e., infinite possible states) and therefore tabular methods cannot solve them. To tackle these environments (and more complex ones) we will have two tools:\n",
        "\n",
        "Extend the tabular methods with the techniques of discretization and tile coding\n",
        "Use function approximators (Neural Networks)"
      ],
      "metadata": {
        "id": "qA24KxER7BB_"
      }
    },
    {
      "cell_type": "code",
      "execution_count": 1,
      "metadata": {
        "id": "wVVE0tZG6ySe"
      },
      "outputs": [],
      "source": [
        "import gym\n",
        "import numpy as np\n",
        "from IPython import display\n",
        "from matplotlib import pyplot as plt\n",
        "%matplotlib inline"
      ]
    },
    {
      "cell_type": "code",
      "execution_count": 2,
      "metadata": {
        "id": "0hSY2cKG6ySh"
      },
      "outputs": [],
      "source": [
        "def test_env(env: gym.Env) -> None:\n",
        "    env.reset()\n",
        "    done = False\n",
        "    img = plt.imshow(env.render(mode='rgb_array')) \n",
        "    while not done:\n",
        "        _, _, done, _ = env.step(env.action_space.sample())\n",
        "        img.set_data(env.render(mode='rgb_array')) \n",
        "        plt.axis('off')\n",
        "        display.display(plt.gcf())\n",
        "        display.clear_output(wait=True)"
      ]
    },
    {
      "cell_type": "markdown",
      "metadata": {
        "id": "59zfI39_6ySi"
      },
      "source": [
        "## CartPole: Keep the tip of the pole straight."
      ]
    },
    {
      "cell_type": "code",
      "source": [
        "pip install pygame"
      ],
      "metadata": {
        "colab": {
          "base_uri": "https://localhost:8080/"
        },
        "id": "PFRAAb8m7cHR",
        "outputId": "8f67f19c-eb2b-4267-e110-76543233530f"
      },
      "execution_count": 5,
      "outputs": [
        {
          "output_type": "stream",
          "name": "stdout",
          "text": [
            "Looking in indexes: https://pypi.org/simple, https://us-python.pkg.dev/colab-wheels/public/simple/\n",
            "Collecting pygame\n",
            "  Downloading pygame-2.1.2-cp37-cp37m-manylinux_2_17_x86_64.manylinux2014_x86_64.whl (21.8 MB)\n",
            "\u001b[K     |████████████████████████████████| 21.8 MB 1.2 MB/s \n",
            "\u001b[?25hInstalling collected packages: pygame\n",
            "Successfully installed pygame-2.1.2\n"
          ]
        }
      ]
    },
    {
      "cell_type": "code",
      "execution_count": 6,
      "metadata": {
        "colab": {
          "base_uri": "https://localhost:8080/",
          "height": 248
        },
        "id": "Xlw8w0ZR6ySj",
        "outputId": "13c4cf49-0267-419e-e8cf-2298dd610feb"
      },
      "outputs": [
        {
          "output_type": "display_data",
          "data": {
            "text/plain": [
              "<Figure size 432x288 with 1 Axes>"
            ],
            "image/png": "[encoded data removed]"
          },
          "metadata": {
            "needs_background": "light"
          }
        }
      ],
      "source": [
        "env = gym.make('CartPole-v1')\n",
        "test_env(env)\n",
        "env.close()"
      ]
    },
    {
      "cell_type": "markdown",
      "metadata": {
        "id": "os1h8q0n6ySj"
      },
      "source": [
        "##### The state\n",
        "\n",
        "The states of the cartpole task will be represented by a vector of four real numbers:\n",
        "\n",
        "        Num     Observation               Min                     Max\n",
        "        0       Cart Position             -4.8                    4.8\n",
        "        1       Cart Velocity             -Inf                    Inf\n",
        "        2       Pole Angle                -0.418 rad (-24 deg)    0.418 rad (24 deg)\n",
        "        3       Pole Angular Velocity     -Inf                    Inf\n"
      ]
    },
    {
      "cell_type": "code",
      "execution_count": 7,
      "metadata": {
        "colab": {
          "base_uri": "https://localhost:8080/"
        },
        "id": "1LJu4_DO6ySk",
        "outputId": "ac8b7766-fa34-49f9-af23-bd1bad88ed7a"
      },
      "outputs": [
        {
          "output_type": "execute_result",
          "data": {
            "text/plain": [
              "Box([-4.8000002e+00 -3.4028235e+38 -4.1887903e-01 -3.4028235e+38], [4.8000002e+00 3.4028235e+38 4.1887903e-01 3.4028235e+38], (4,), float32)"
            ]
          },
          "metadata": {},
          "execution_count": 7
        }
      ],
      "source": [
        "env.observation_space"
      ]
    },
    {
      "cell_type": "markdown",
      "metadata": {
        "id": "DOKGda1X6ySl"
      },
      "source": [
        "##### The actions available\n",
        "\n",
        "We can perform two actions in this environment:\n",
        "\n",
        "        0     Push cart to the left.\n",
        "        1     Push cart to the right.\n",
        "\n"
      ]
    },
    {
      "cell_type": "code",
      "execution_count": 8,
      "metadata": {
        "colab": {
          "base_uri": "https://localhost:8080/"
        },
        "id": "3Dvn7Oq66ySl",
        "outputId": "41c1ffa2-7087-4c89-c218-8706a062d088"
      },
      "outputs": [
        {
          "output_type": "execute_result",
          "data": {
            "text/plain": [
              "Discrete(2)"
            ]
          },
          "metadata": {},
          "execution_count": 8
        }
      ],
      "source": [
        "env.action_space"
      ]
    },
    {
      "cell_type": "markdown",
      "metadata": {
        "id": "miezyn7R6ySm"
      },
      "source": [
        "## Acrobot: Swing the bar up to a certain height."
      ]
    },
    {
      "cell_type": "code",
      "execution_count": 9,
      "metadata": {
        "colab": {
          "base_uri": "https://localhost:8080/",
          "height": 248
        },
        "id": "DqMhieHq6ySn",
        "outputId": "434e6694-5dce-4dad-c2e7-02fb448aed3e"
      },
      "outputs": [
        {
          "output_type": "display_data",
          "data": {
            "text/plain": [
              "<Figure size 432x288 with 1 Axes>"
            ],
            "image/png": "[encoded data removed]"
          },
          "metadata": {
            "needs_background": "light"
          }
        }
      ],
      "source": [
        "env = gym.make('Acrobot-v1')\n",
        "test_env(env)\n",
        "env.close()"
      ]
    },
    {
      "cell_type": "markdown",
      "metadata": {
        "id": "LLMmOCWy6ySo"
      },
      "source": [
        "##### The state\n",
        "\n",
        "The states of the cartpole task will be represented by a vector of six real numbers. The first two are the cosine and sine of the first joint. The next two are the cosine and sine of the other joint. The last two are the angular velocities of each joint.\n",
        "    \n",
        "$\\cos(\\theta_1), \\sin(\\theta_1), \\cos(\\theta_2), \\sin(\\theta_2), \\dot\\theta_1, \\dot\\theta_2$"
      ]
    },
    {
      "cell_type": "code",
      "execution_count": 10,
      "metadata": {
        "colab": {
          "base_uri": "https://localhost:8080/"
        },
        "id": "zFAR3pFq6ySp",
        "outputId": "1897b213-f8fd-422f-8eb1-b84cfedf110c"
      },
      "outputs": [
        {
          "output_type": "execute_result",
          "data": {
            "text/plain": [
              "Box([ -1.        -1.        -1.        -1.       -12.566371 -28.274334], [ 1.        1.        1.        1.       12.566371 28.274334], (6,), float32)"
            ]
          },
          "metadata": {},
          "execution_count": 10
        }
      ],
      "source": [
        "env.observation_space"
      ]
    },
    {
      "cell_type": "markdown",
      "metadata": {
        "id": "Ru-GNVNM6ySq"
      },
      "source": [
        "##### The actions available\n",
        "\n",
        "We can perform two actions in this environment:\n",
        "\n",
        "    0    Apply +1 torque on the joint between the links.\n",
        "    1    Apply -1 torque on the joint between the links. "
      ]
    },
    {
      "cell_type": "code",
      "execution_count": 11,
      "metadata": {
        "colab": {
          "base_uri": "https://localhost:8080/"
        },
        "id": "8GBy2M486ySq",
        "outputId": "42d054db-5308-4648-bcfe-d271e0567ba5"
      },
      "outputs": [
        {
          "output_type": "execute_result",
          "data": {
            "text/plain": [
              "Discrete(3)"
            ]
          },
          "metadata": {},
          "execution_count": 11
        }
      ],
      "source": [
        "env.action_space"
      ]
    },
    {
      "cell_type": "markdown",
      "metadata": {
        "id": "U5LV6Jwn6ySq"
      },
      "source": [
        "## MountainCar: Reach the goal from the bottom of the valley."
      ]
    },
    {
      "cell_type": "code",
      "execution_count": 12,
      "metadata": {
        "colab": {
          "base_uri": "https://localhost:8080/",
          "height": 248
        },
        "id": "C9ZtiGJf6ySr",
        "outputId": "62122366-14e0-4afb-f5b6-04843847d0b1"
      },
      "outputs": [
        {
          "output_type": "display_data",
          "data": {
            "text/plain": [
              "<Figure size 432x288 with 1 Axes>"
            ],
            "image/png": "[encoded data removed]"
          },
          "metadata": {
            "needs_background": "light"
          }
        }
      ],
      "source": [
        "env = gym.make('MountainCar-v0')\n",
        "test_env(env)\n",
        "env.close()"
      ]
    },
    {
      "cell_type": "markdown",
      "metadata": {
        "id": "gwg3WZlv6ySr"
      },
      "source": [
        "##### The state\n",
        "\n",
        "The observation space consists of the car position $\\in [-1.2, 0.6]$ and car velocity $\\in [-0.07, 0.07]$"
      ]
    },
    {
      "cell_type": "code",
      "execution_count": 13,
      "metadata": {
        "colab": {
          "base_uri": "https://localhost:8080/"
        },
        "id": "nO8kKrsB6ySr",
        "outputId": "bb47fd23-9d75-4bca-cb9f-02a12bcfbdb5"
      },
      "outputs": [
        {
          "output_type": "execute_result",
          "data": {
            "text/plain": [
              "Box([-1.2  -0.07], [0.6  0.07], (2,), float32)"
            ]
          },
          "metadata": {},
          "execution_count": 13
        }
      ],
      "source": [
        "env.observation_space"
      ]
    },
    {
      "cell_type": "markdown",
      "metadata": {
        "id": "9n9oEmiM6ySs"
      },
      "source": [
        "##### The actions available\n",
        "\n",
        "\n",
        "The actions available three:\n",
        "\n",
        "    0    Accelerate to the left.\n",
        "    1    Don't accelerate.\n",
        "    2    Accelerate to the right."
      ]
    },
    {
      "cell_type": "code",
      "execution_count": 14,
      "metadata": {
        "colab": {
          "base_uri": "https://localhost:8080/"
        },
        "id": "fj9-hH5a6ySs",
        "outputId": "9404e35b-b6bc-479e-f674-a58effc3c081"
      },
      "outputs": [
        {
          "output_type": "execute_result",
          "data": {
            "text/plain": [
              "Discrete(3)"
            ]
          },
          "metadata": {},
          "execution_count": 14
        }
      ],
      "source": [
        "env.action_space"
      ]
    },
    {
      "cell_type": "markdown",
      "metadata": {
        "id": "xanPfWMj6ySs"
      },
      "source": [
        "## Pendulum: swing it and keep it upright"
      ]
    },
    {
      "cell_type": "code",
      "execution_count": 16,
      "metadata": {
        "colab": {
          "base_uri": "https://localhost:8080/",
          "height": 248
        },
        "id": "DawK2PMw6ySt",
        "outputId": "1627dbd4-c968-43d4-9ab7-928e0e154dfa"
      },
      "outputs": [
        {
          "output_type": "display_data",
          "data": {
            "text/plain": [
              "<Figure size 432x288 with 1 Axes>"
            ],
            "image/png": "[encoded data removed]"
          },
          "metadata": {
            "needs_background": "light"
          }
        }
      ],
      "source": [
        "env = gym.make('Pendulum-v1')\n",
        "test_env(env)\n",
        "env.close()"
      ]
    },
    {
      "cell_type": "markdown",
      "metadata": {
        "id": "lB0mx9iy6ySt"
      },
      "source": [
        "##### The state\n",
        "\n",
        "The state is represented by a vector of three values representing $\\cos(\\theta), \\sin(\\theta)$ and speed ($\\theta$ is the angle of the pendulum)."
      ]
    },
    {
      "cell_type": "code",
      "execution_count": 17,
      "metadata": {
        "colab": {
          "base_uri": "https://localhost:8080/"
        },
        "id": "FrO3CE6c6ySt",
        "outputId": "b9a54302-09e6-49c5-d440-96c5381d8937"
      },
      "outputs": [
        {
          "output_type": "execute_result",
          "data": {
            "text/plain": [
              "Box([-1. -1. -8.], [1. 1. 8.], (3,), float32)"
            ]
          },
          "metadata": {},
          "execution_count": 17
        }
      ],
      "source": [
        "env.observation_space"
      ]
    },
    {
      "cell_type": "markdown",
      "metadata": {
        "id": "YdyM8FGQ6ySt"
      },
      "source": [
        "##### The actions available\n",
        "\n",
        "The action is a real number in the interval $[-2, 2]$ that represents the torque applied on the pendulum."
      ]
    },
    {
      "cell_type": "code",
      "execution_count": 18,
      "metadata": {
        "colab": {
          "base_uri": "https://localhost:8080/"
        },
        "id": "71XwjL4m6ySu",
        "outputId": "82bdeea8-cb85-45bc-da98-2a315480114d"
      },
      "outputs": [
        {
          "output_type": "execute_result",
          "data": {
            "text/plain": [
              "Box(-2.0, 2.0, (1,), float32)"
            ]
          },
          "metadata": {},
          "execution_count": 18
        }
      ],
      "source": [
        "env.action_space"
      ]
    }
  ],
  "metadata": {
    "kernelspec": {
      "display_name": "Python 3",
      "language": "python",
      "name": "python3"
    },
    "language_info": {
      "codemirror_mode": {
        "name": "ipython",
        "version": 3
      },
      "file_extension": ".py",
      "mimetype": "text/x-python",
      "name": "python",
      "nbconvert_exporter": "python",
      "pygments_lexer": "ipython3",
      "version": "3.8.5"
    },
    "colab": {
      "provenance": []
    }
  },
  "nbformat": 4,
  "nbformat_minor": 0
}