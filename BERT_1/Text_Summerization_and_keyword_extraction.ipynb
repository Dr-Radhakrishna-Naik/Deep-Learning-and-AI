{
  "nbformat": 4,
  "nbformat_minor": 0,
  "metadata": {
    "colab": {
      "name": "Text Summerization and keyword extraction.ipynb",
      "provenance": [],
      "collapsed_sections": [],
      "toc_visible": true
    },
    "kernelspec": {
      "name": "python3",
      "display_name": "Python 3"
    },
    "language_info": {
      "name": "python"
    }
  },
  "cells": [
    {
      "cell_type": "code",
      "execution_count": 19,
      "metadata": {
        "id": "BX9UcWF0nNmU"
      },
      "outputs": [],
      "source": [
        "#This module provides functions for summarizing texts. Summarizing is based on ranks of text sentences using a variation of the TextRank algorithm \n",
        "#This module contains functions to find keywords of the text and building graph on tokens from text.\n",
        "from gensim.summarization.summarizer import summarize \n",
        "from gensim.summarization import keywords \n"
      ]
    },
    {
      "cell_type": "markdown",
      "source": [
        ""
      ],
      "metadata": {
        "id": "SVsqLMoOe0LT"
      }
    },
    {
      "cell_type": "markdown",
      "source": [
        "# ***Text***"
      ],
      "metadata": {
        "id": "gbeUFO0M6iIf"
      }
    },
    {
      "cell_type": "markdown",
      "source": [
        "The respiratory disease cause the death by wrong analysis might be an impressive effect in patient’s health. In the pandemic resource limitation has significantly delayed the routine diagnosis of lung diseases patients including interstitial lung disease (ILD).The early detection may improve the life period and health of patients. The decision making of classifier is important based on early feature extraction from segmented output images. In this paper proposed a methodology based on the Ensemble Classifier using hybrid feature (statistical and structural) set extracted by super pixel image processing and fusion of K-means clusters (SPFKMC) on ILD images. Segmented super pixel image overcome the limitation of multiclass belongings, semi adaptive wavelet based fusion is applied over selected K-means clusters. After segmentation it is classified by Support Vector Machines (SVM) and Ensemble classifier. Based on the accuracy comparison of different classifier, notice that ensemble learning methods give the accuracy score satisfactory."
      ],
      "metadata": {
        "id": "7f2IktsqpjKq"
      }
    },
    {
      "cell_type": "code",
      "source": [
        "text = 'The respiratory disease cause the death by wrong analysis might be an impressive effect in patient’s health. In the pandemic resource limitation has significantly delayed the routine diagnosis of lung diseases patients including interstitial lung disease (ILD).The early detection may improve the life period and health of patients. The decision making of classifier is important based on early feature extraction from segmented output images. In this paper proposed a methodology based on the Ensemble Classifier using hybrid feature (statistical and structural) set extracted by super pixel image processing and fusion of K-means clusters (SPFKMC) on ILD images. Segmented super pixel image overcome the limitation of multiclass belongings, semi adaptive wavelet based fusion is applied over selected K-means clusters. After segmentation it is classified by Support Vector Machines (SVM) and Ensemble classifier. Based on the accuracy comparison of different classifier, notice that ensemble learning methods give the accuracy score satisfactory.'"
      ],
      "metadata": {
        "id": "fJoAGKxAqFPA"
      },
      "execution_count": 21,
      "outputs": []
    },
    {
      "cell_type": "code",
      "source": [
        "print(summarize(text,ratio=0.5)) # You can adjust how much text the summarizer outputs via the \"ratio\" parameter or the \"word_count\" parameter."
      ],
      "metadata": {
        "colab": {
          "base_uri": "https://localhost:8080/"
        },
        "id": "0ffoyj4tqWaj",
        "outputId": "b02a471c-6595-467d-ba7e-422b320e4486"
      },
      "execution_count": 26,
      "outputs": [
        {
          "output_type": "stream",
          "name": "stderr",
          "text": [
            "WARNING:gensim.summarization.summarizer:Input text is expected to have at least 10 sentences.\n",
            "WARNING:gensim.summarization.summarizer:Input corpus is expected to have at least 10 documents.\n"
          ]
        },
        {
          "output_type": "stream",
          "name": "stdout",
          "text": [
            "The decision making of classifier is important based on early feature extraction from segmented output images.\n",
            "In this paper proposed a methodology based on the Ensemble Classifier using hybrid feature (statistical and structural) set extracted by super pixel image processing and fusion of K-means clusters (SPFKMC) on ILD images.\n",
            "Segmented super pixel image overcome the limitation of multiclass belongings, semi adaptive wavelet based fusion is applied over selected K-means clusters.\n"
          ]
        }
      ]
    },
    {
      "cell_type": "code",
      "source": [
        "print(keywords(text,words=5))"
      ],
      "metadata": {
        "colab": {
          "base_uri": "https://localhost:8080/"
        },
        "id": "Bg9Y31yM2LtF",
        "outputId": "f981dbe8-29f2-4582-cd9f-5a0e2f32b770"
      },
      "execution_count": 27,
      "outputs": [
        {
          "output_type": "stream",
          "name": "stdout",
          "text": [
            "based\n",
            "images\n",
            "image\n",
            "disease\n",
            "diseases\n",
            "feature\n",
            "classifier\n",
            "classified\n"
          ]
        }
      ]
    },
    {
      "cell_type": "code",
      "source": [
        "#import the trial.txt file which save in google drive\n",
        "from google.colab import drive\n",
        "drive.mount('/content/drive')"
      ],
      "metadata": {
        "colab": {
          "base_uri": "https://localhost:8080/"
        },
        "id": "HrwWNiua7ku9",
        "outputId": "f381e734-2450-4b17-b269-855ec6b4cb25"
      },
      "execution_count": 28,
      "outputs": [
        {
          "output_type": "stream",
          "name": "stdout",
          "text": [
            "Drive already mounted at /content/drive; to attempt to forcibly remount, call drive.mount(\"/content/drive\", force_remount=True).\n"
          ]
        }
      ]
    },
    {
      "cell_type": "code",
      "source": [
        "path ='/content/drive/MyDrive/Colab Notebooks/trial.txt'"
      ],
      "metadata": {
        "id": "Tqy6G1ACA2BN"
      },
      "execution_count": 29,
      "outputs": []
    },
    {
      "cell_type": "code",
      "source": [
        "with open(path,'r') as f:\n",
        "  print(f.read())"
      ],
      "metadata": {
        "colab": {
          "base_uri": "https://localhost:8080/"
        },
        "id": "cBXqtdzyC7nP",
        "outputId": "e2abdd63-ebb0-41b5-b30a-820b26ed5df1"
      },
      "execution_count": 30,
      "outputs": [
        {
          "output_type": "stream",
          "name": "stdout",
          "text": [
            "The global reserves of diesel, petrol, and other fossil fuels are decreasing rapidly due to their extensive use in transportation operation. The far-flung use of the traditional fuels produces tons of CO2 yearly, which have harmful implications for the environment, such as greenhouse gas emissions (GHGE) and global warming [1]. In addition, the costs of these fuels are increasing exponentially, so there is a need for a secondary energy source for transportation, such as electric vehicles (EVs), new energy vehicles (NEVs), plug-in hybrid electric vehicle (PHEVs), battery electric vehicles (BEVs), and fuel cell electric vehicles (FCEVs) [2,3]. In recent years, rechargeable batteries (RBs) have attracted considerable attention owing to their high demand in EVs, HEVs, and PHEVs [4–7]. With the use of renewable energy, these transportation sources can reduce their GHGE by up to 40% [8]. The alternative energy sources, such as wave, wind, tidal, and solar, are episodical, so these energy resources also require an energy storage system (ESS) to maintain a smooth and reliable supply to the consumer [9]. In recent years, United States, Japan, China, and Germany have taken keen interest in the performance improvement of RBs and accomplished some significant results [10].\n",
            "A.\tBattery Management System\n",
            "A BMS is an electronic system that estimates the voltage, current and temperature of a battery in real time and logs it for cell balancing, thermal management, cell protection (over-current, over-voltage and over-heat), SOH and SOC estimations. Flow chart representing the factors influence SOH and SOC of Lithium-ion batteries along with its BMS functions is shown in Fig. 1. A BMS acquires data in terms of voltage ,current and temperature. Data pre-processing is being done by normalizing, sub-sampling and organization and reveals the state estimation in form of SOC & SOH using timer, memory modules and user interface [13]. Also,\n",
            " \n",
            "it ensures protection against over- voltages, under-voltages and over-temperature. All the above discussed BMS functions are shown in Fig.1 In short, the BMS is a complex management system, which interfaces with on-board units such as controller unit and thermal unit via communication bus, thereby ensuring the safe and reliable operation of the lithium-ion battery. The battery pack, being the most expensive part of the EV needs a well-designed management system, which not only ensures the fault diagnosis but also improves its work prediction based on real- time or historic data [13].\n",
            "\n"
          ]
        }
      ]
    },
    {
      "cell_type": "code",
      "source": [
        "#import the trial.txt file which save in google drive\n",
        "m=open('/content/drive/MyDrive/Colab Notebooks/trial.txt','r').read()"
      ],
      "metadata": {
        "id": "si8lcPqrEYe3"
      },
      "execution_count": 32,
      "outputs": []
    },
    {
      "cell_type": "code",
      "source": [
        "print(m)"
      ],
      "metadata": {
        "colab": {
          "base_uri": "https://localhost:8080/"
        },
        "id": "gK_fWVuGEYhF",
        "outputId": "6ffed96a-680e-4f0b-e0cf-bdfefe63b1d9"
      },
      "execution_count": 33,
      "outputs": [
        {
          "output_type": "stream",
          "name": "stdout",
          "text": [
            "The global reserves of diesel, petrol, and other fossil fuels are decreasing rapidly due to their extensive use in transportation operation. The far-flung use of the traditional fuels produces tons of CO2 yearly, which have harmful implications for the environment, such as greenhouse gas emissions (GHGE) and global warming [1]. In addition, the costs of these fuels are increasing exponentially, so there is a need for a secondary energy source for transportation, such as electric vehicles (EVs), new energy vehicles (NEVs), plug-in hybrid electric vehicle (PHEVs), battery electric vehicles (BEVs), and fuel cell electric vehicles (FCEVs) [2,3]. In recent years, rechargeable batteries (RBs) have attracted considerable attention owing to their high demand in EVs, HEVs, and PHEVs [4–7]. With the use of renewable energy, these transportation sources can reduce their GHGE by up to 40% [8]. The alternative energy sources, such as wave, wind, tidal, and solar, are episodical, so these energy resources also require an energy storage system (ESS) to maintain a smooth and reliable supply to the consumer [9]. In recent years, United States, Japan, China, and Germany have taken keen interest in the performance improvement of RBs and accomplished some significant results [10].\n",
            "A.\tBattery Management System\n",
            "A BMS is an electronic system that estimates the voltage, current and temperature of a battery in real time and logs it for cell balancing, thermal management, cell protection (over-current, over-voltage and over-heat), SOH and SOC estimations. Flow chart representing the factors influence SOH and SOC of Lithium-ion batteries along with its BMS functions is shown in Fig. 1. A BMS acquires data in terms of voltage ,current and temperature. Data pre-processing is being done by normalizing, sub-sampling and organization and reveals the state estimation in form of SOC & SOH using timer, memory modules and user interface [13]. Also,\n",
            " \n",
            "it ensures protection against over- voltages, under-voltages and over-temperature. All the above discussed BMS functions are shown in Fig.1 In short, the BMS is a complex management system, which interfaces with on-board units such as controller unit and thermal unit via communication bus, thereby ensuring the safe and reliable operation of the lithium-ion battery. The battery pack, being the most expensive part of the EV needs a well-designed management system, which not only ensures the fault diagnosis but also improves its work prediction based on real- time or historic data [13].\n",
            "\n"
          ]
        }
      ]
    },
    {
      "cell_type": "code",
      "source": [
        " # You can adjust how much text the summarizer outputs via the \"ratio\" parameter or the \"word_count\" parameter.\n",
        " print(summarize(m,ratio=0.2))"
      ],
      "metadata": {
        "colab": {
          "base_uri": "https://localhost:8080/"
        },
        "id": "OTLmFZMyC7pt",
        "outputId": "1de41bf0-0133-4c8f-98e9-24ff59840e3f"
      },
      "execution_count": null,
      "outputs": [
        {
          "output_type": "stream",
          "name": "stdout",
          "text": [
            "A BMS is an electronic system that estimates the voltage, current and temperature of a battery in real time and logs it for cell balancing, thermal management, cell protection (over-current, over-voltage and over-heat), SOH and SOC estimations.\n",
            "Flow chart representing the factors influence SOH and SOC of Lithium-ion batteries along with its BMS functions is shown in Fig. 1.\n",
            "All the above discussed BMS functions are shown in Fig.1 In short, the BMS is a complex management system, which interfaces with on-board units such as controller unit and thermal unit via communication bus, thereby ensuring the safe and reliable operation of the lithium-ion battery.\n"
          ]
        }
      ]
    },
    {
      "cell_type": "code",
      "source": [
        " # Use the \"split\" option if you want a list of strings instead of a single string\n",
        " print(summarize(text, split=True,ratio=0.5))"
      ],
      "metadata": {
        "colab": {
          "base_uri": "https://localhost:8080/"
        },
        "id": "_nUAdmrPLRnu",
        "outputId": "8a2d8ee7-2291-48da-edfa-519d3ffce822"
      },
      "execution_count": null,
      "outputs": [
        {
          "output_type": "stream",
          "name": "stderr",
          "text": [
            "WARNING:gensim.summarization.summarizer:Input text is expected to have at least 10 sentences.\n",
            "WARNING:gensim.summarization.summarizer:Input corpus is expected to have at least 10 documents.\n"
          ]
        },
        {
          "output_type": "stream",
          "name": "stdout",
          "text": [
            "['The decision making of classifier is important based on early feature extraction from segmented output images.', 'In this paper proposed a methodology based on the Ensemble Classifier using hybrid feature (statistical and structural) set extracted by super pixel image processing and fusion of K-means clusters (SPFKMC) on ILD images.', 'Segmented super pixel image overcome the limitation of multiclass belongings, semi adaptive wavelet based fusion is applied over selected K-means clusters.']\n"
          ]
        }
      ]
    },
    {
      "cell_type": "code",
      "source": [
        ""
      ],
      "metadata": {
        "id": "5gMSasVKlkxh"
      },
      "execution_count": null,
      "outputs": []
    },
    {
      "cell_type": "code",
      "source": [
        ""
      ],
      "metadata": {
        "id": "cR5kZmhylkqE"
      },
      "execution_count": null,
      "outputs": []
    },
    {
      "cell_type": "code",
      "source": [
        "# In this the algorithm tries to find words that are important or seem representative of the entire text.\n",
        "print(keywords(text,words=5)) "
      ],
      "metadata": {
        "colab": {
          "base_uri": "https://localhost:8080/"
        },
        "id": "KXGva7AdLRlj",
        "outputId": "4d8ec0c0-ba0b-47b7-af30-5ae94235ce35"
      },
      "execution_count": null,
      "outputs": [
        {
          "output_type": "stream",
          "name": "stdout",
          "text": [
            "based\n",
            "images\n",
            "image\n",
            "disease\n",
            "diseases\n",
            "feature\n",
            "classifier\n",
            "classified\n"
          ]
        }
      ]
    },
    {
      "cell_type": "code",
      "source": [
        "# Using the \"word_count\" parameter, we specify the maximum amount of words we want in the summary.\n",
        "print(summarize(text, word_count=50)) "
      ],
      "metadata": {
        "colab": {
          "base_uri": "https://localhost:8080/"
        },
        "id": "-opFTECeLuU8",
        "outputId": "cfd9466e-4bd4-4c01-fc31-d19daf77dd02"
      },
      "execution_count": 34,
      "outputs": [
        {
          "output_type": "stream",
          "name": "stderr",
          "text": [
            "WARNING:gensim.summarization.summarizer:Input text is expected to have at least 10 sentences.\n",
            "WARNING:gensim.summarization.summarizer:Input corpus is expected to have at least 10 documents.\n"
          ]
        },
        {
          "output_type": "stream",
          "name": "stdout",
          "text": [
            "In this paper proposed a methodology based on the Ensemble Classifier using hybrid feature (statistical and structural) set extracted by super pixel image processing and fusion of K-means clusters (SPFKMC) on ILD images.\n",
            "Segmented super pixel image overcome the limitation of multiclass belongings, semi adaptive wavelet based fusion is applied over selected K-means clusters.\n"
          ]
        }
      ]
    },
    {
      "cell_type": "code",
      "source": [
        "#Lemmatization is the grouping together of different forms of the same word.\n",
        "print(keywords(m,words=5,lemmatize=True)) "
      ],
      "metadata": {
        "colab": {
          "base_uri": "https://localhost:8080/"
        },
        "id": "srrRQq9WLuXr",
        "outputId": "93b279b9-1fc8-4d81-b1fe-5796a5ba0d52"
      },
      "execution_count": 36,
      "outputs": [
        {
          "output_type": "stream",
          "name": "stdout",
          "text": [
            "energy\n",
            "vehicle\n",
            "batteries\n",
            "unit\n",
            "data\n"
          ]
        }
      ]
    }
  ]
}